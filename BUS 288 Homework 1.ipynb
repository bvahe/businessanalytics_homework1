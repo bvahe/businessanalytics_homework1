{
 "cells": [
  {
   "cell_type": "markdown",
   "id": "9d6654b9",
   "metadata": {},
   "source": [
    "<center>\n",
    "        <h1>BUS 288 Business Analytics</h1>\n",
    "        <h2>AUA, Spring 2022</h2>\n",
    "        <h1> Homework 1 </h1>\n",
    "        <h1>Due date: February 25, 23:59 PM <h1>\n",
    "</center>"
   ]
  },
  {
   "cell_type": "markdown",
   "id": "1e6e6099",
   "metadata": {},
   "source": [
    "<center>\n",
    "        <h1> Name Surname, Student ID A00000000  </h1>\n",
    "        <h1> Name Surname, Student ID A00000000  </h1>\n",
    "</center>"
   ]
  },
  {
   "cell_type": "markdown",
   "id": "b6ad4969",
   "metadata": {},
   "source": [
    "# Problem 1 (50 points)"
   ]
  },
  {
   "cell_type": "markdown",
   "id": "9577b428",
   "metadata": {},
   "source": [
    "In the following problem you are given with the dataset which contains information on Armenian financial sector. Net Profit, Assets and Capital are represented in billions AMD.\n",
    "\n",
    "1. Upload banks.xlsx into Jupyter Notebook as Pandas DataFrame (use: pandas.read_excel).\n",
    "2. Show first 5 lines of the table.\n",
    "3. What is the total number of employees in financial organizations? \n",
    "4. Display organizations which have only one branch.\n",
    "5. Display organization with the highest net profit.\n",
    "6. Create a new column Return On Equity (ROE = profit/capital).\n",
    "7. Permanently remove row(s) that contain missing value(s).\n",
    "8. Permanently remove rows which contain information on loan organizations.\n",
    "9. Permanently remove column of assets.\n",
    "10. Create a chart showing dependence between ROE and number of employees.\n",
    "\n",
    "*Data is collected from open sources. The numbers as of today may be different.*"
   ]
  },
  {
   "cell_type": "code",
   "execution_count": 2,
   "id": "ecbc9a37",
   "metadata": {},
   "outputs": [],
   "source": [
    "import numpy as np\n",
    "import pandas as pd\n",
    "import matplotlib.pyplot as plt"
   ]
  },
  {
   "cell_type": "markdown",
   "id": "50d65034",
   "metadata": {},
   "source": [
    "# Problem 2 ( 50 points)"
   ]
  },
  {
   "cell_type": "markdown",
   "id": "7a906663",
   "metadata": {},
   "source": [
    "#### For this problem we are going to use credit.csv. A data contains 400 observations on the following variables."
   ]
  },
  {
   "cell_type": "markdown",
   "id": "354d4c81",
   "metadata": {},
   "source": [
    "1. Limit - Credit limit\n",
    "2. Income - Income in \\\\$1,000’s\n",
    "3. Cards - Number of credit cards\n",
    "4. Age - Age in years\n",
    "5. Balance - Average credit card balance in $ "
   ]
  },
  {
   "cell_type": "markdown",
   "id": "b25f2da2",
   "metadata": {},
   "source": [
    "#### To do\n",
    "\n",
    "1. Upload credit.csv into Jupyter Notebook as Pandas DataFrame (use: pandas.read_csv). Visualize data use (pairplot function from seaborn). Comment on which variables are highly correlated to each other, which variables are continous and which are discrete. \n",
    "2. Fit a simple linear regressions (use LinearRegression from Scikit-learn), where Limit serves as a target variable and Income as feature (explanatory variable). Calculate and display intercept, coefficient and R^2.\n",
    "3. How much, on average, will credit limit change if income of individual will increase by \\\\$1000\n",
    "4. Fit a multiple linear regression (use LinearRegression from Scikit-learn), where Limit serves as a target variable, Income and Balance as fetures. \n",
    "5. Predict Income using model fitted in part 4. Store results as new column in dataframe created in part 1.\n",
    "6. Calculate Mean Squared Error (MSE, Lecture 2 slide 23) using Income and predicted income in part 4, store results as a new column.\n",
    "7. Fit a multiple linear regression (use ols function from statsmodels), where Limit serves as a target variable. Income, Cards, Age and Balance serve as fetures. Display the summary of the model.\n",
    "8. Based on the p-values in regression output (part 7) which variables should be excluded, if any, from the regression? Explain."
   ]
  },
  {
   "cell_type": "code",
   "execution_count": null,
   "id": "151735ed",
   "metadata": {},
   "outputs": [],
   "source": [
    "import pandas as pd\n",
    "import numpy as np\n",
    "import matplotlib.pyplot as plt\n",
    "import seaborn as sns\n",
    "\n",
    "from sklearn.linear_model import LinearRegression\n",
    "from sklearn.metrics import mean_squared_error, r2_score\n",
    "import statsmodels.api as sm\n",
    "import statsmodels.formula.api as smf\n",
    "\n",
    "%matplotlib inline"
   ]
  }
 ],
 "metadata": {
  "kernelspec": {
   "display_name": "Python 3 (ipykernel)",
   "language": "python",
   "name": "python3"
  },
  "language_info": {
   "codemirror_mode": {
    "name": "ipython",
    "version": 3
   },
   "file_extension": ".py",
   "mimetype": "text/x-python",
   "name": "python",
   "nbconvert_exporter": "python",
   "pygments_lexer": "ipython3",
   "version": "3.9.7"
  }
 },
 "nbformat": 4,
 "nbformat_minor": 5
}
